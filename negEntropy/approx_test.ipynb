{
 "cells": [
  {
   "cell_type": "code",
   "execution_count": 64,
   "metadata": {
    "collapsed": true
   },
   "outputs": [],
   "source": [
    "from negentropy_approx import NegentropyApprox1, NegentropyApprox2, NegentropyApprox3, NegentropyApprox4, NegentropyApprox5\n",
    "from scipy import stats\n",
    "import numpy as np\n",
    "import pandas as pd\n",
    "import torch\n",
    "from typing import Callable"
   ]
  },
  {
   "cell_type": "markdown",
   "source": [
    "Для вычисления точности приближений негэнтропий вычислим их значения для некоторых классических случайных величин. Сравнивать будем с негэнтропией, вычисленной с использованием библиотечных значений для энтропий"
   ],
   "metadata": {
    "collapsed": false
   }
  },
  {
   "cell_type": "code",
   "execution_count": 5,
   "outputs": [],
   "source": [
    "class NormalEntropy:\n",
    "  def __init__(self, loc : float = 0, scale : float = 1):\n",
    "    self.entropy = stats.norm.entropy(loc, scale)\n",
    "\n",
    "  def __call__(self) -> float:\n",
    "    return self.entropy\n",
    "\n",
    "class NegentropyApproxScipy:\n",
    "  def __init__(self):\n",
    "    self.normal_entropy = NormalEntropy()()\n",
    "\n",
    "  def __call__(self, x : np.ndarray) -> float:\n",
    "    return self.normal_entropy - stats.differential_entropy(x)"
   ],
   "metadata": {
    "collapsed": false,
    "pycharm": {
     "name": "#%%\n"
    }
   }
  },
  {
   "cell_type": "markdown",
   "source": [
    "Зафиксируем набор тестируемых приближений негэнтропий"
   ],
   "metadata": {
    "collapsed": false
   }
  },
  {
   "cell_type": "code",
   "execution_count": 29,
   "outputs": [],
   "source": [
    "# для первого приближения зафиксируем несколько значений константы\n",
    "negentropy1_1 = NegentropyApprox1(1)\n",
    "negentropy1_15 = NegentropyApprox1(1.5)\n",
    "negentropy1_2 = NegentropyApprox1(2)\n",
    "negentropy2 = NegentropyApprox2()\n",
    "negentropy3 = NegentropyApprox3()\n",
    "negentropy4 = NegentropyApprox4()\n",
    "negentropy5 = NegentropyApprox5()\n",
    "\n",
    "all_negentropy_approx = {\n",
    "                      \"NegentropyApprox1(1)\" :negentropy1_1,\n",
    "                      \"NegentropyApprox1(1.5)\" : negentropy1_15,\n",
    "                      \"NegentropyApprox1(2)\" :negentropy1_2,\n",
    "                      \"NegentropyApprox2\" : negentropy2,\n",
    "                      \"NegentropyApprox3\" : negentropy3,\n",
    "                      \"NegentropyApprox4\" : negentropy4,\n",
    "                      \"NegentropyApprox5\" :negentropy5\n",
    "                      }"
   ],
   "metadata": {
    "collapsed": false,
    "pycharm": {
     "name": "#%%\n"
    }
   }
  },
  {
   "cell_type": "markdown",
   "source": [
    "Будем использовать 3 классических распределения: нормальное, равномерное и Лапласа. loc, scale зададит таким образом, чтобы E=0, D=1"
   ],
   "metadata": {
    "collapsed": false
   }
  },
  {
   "cell_type": "code",
   "execution_count": 30,
   "outputs": [],
   "source": [
    "distributions = {\"normal\" : [stats.norm, 0, 1],\n",
    "                 \"uniform\" : [stats.uniform, -(3**0.5), 2*(3**0.5)],\n",
    "                 \"laplace\": [stats.laplace, 0, 1/(2**0.5)]}"
   ],
   "metadata": {
    "collapsed": false,
    "pycharm": {
     "name": "#%%\n"
    }
   }
  },
  {
   "cell_type": "markdown",
   "source": [
    "Также зафиксируем разные размеры выборок для тестирования"
   ],
   "metadata": {
    "collapsed": false
   }
  },
  {
   "cell_type": "code",
   "execution_count": 31,
   "outputs": [],
   "source": [
    "sample_sizes = [10, 100, 1000, 10000, 100000]\n",
    "\n",
    "# столбцы в результирующей таблице\n",
    "columns = [\"Real negentropy\", \"Negentropy1(1)\", \"Negentropy1(1.5)\", \"Negentropy1(2)\", \"Negentropy2\", \"Negentropy3\", \"Negentropy4\", \"Negentropy5\", \"MeanNegentropy\"]\n",
    "rows = []\n",
    "for name, features in distributions.items():\n",
    "  for sample_size in sample_sizes:\n",
    "    rows.append(f\"{sample_size} {name}\")"
   ],
   "metadata": {
    "collapsed": false,
    "pycharm": {
     "name": "#%%\n"
    }
   }
  },
  {
   "cell_type": "markdown",
   "source": [
    "Зададим функции для проведения эксперимент"
   ],
   "metadata": {
    "collapsed": false
   }
  },
  {
   "cell_type": "code",
   "execution_count": 57,
   "outputs": [],
   "source": [
    "def test_negentropy_for_distribution(scipy_stats_distr, loc : float, scale : float, sample_size : int):\n",
    "  \"\"\"\n",
    "  Функция по вычисления всех заданных приближений негэнтропий для выборки фиксированного размера из заданного распределения\n",
    "  \"\"\"\n",
    "  res = []\n",
    "  real_negentropy = NormalEntropy()() - scipy_stats_distr.entropy(loc, scale)\n",
    "  res.append(real_negentropy)\n",
    "\n",
    "  sample = torch.from_numpy(scipy_stats_distr.rvs(loc, scale, sample_size))\n",
    "  for _, negentropy_approx in all_negentropy_approx.items():\n",
    "    res_approx = negentropy_approx(sample)\n",
    "    res.append(res_approx.item())\n",
    "  mean_res = np.mean(res[1:])\n",
    "  res.append(mean_res)\n",
    "  return res\n",
    "\n",
    "def experiment():\n",
    "  \"\"\"\n",
    "  Функция по вычислению приближений негэнтропий для всех комбинаций размеров выборок и распределений\n",
    "  Возвращает\n",
    "  \"\"\"\n",
    "  # TODO: добавить выше, что возвращает\n",
    "  results = []\n",
    "  for _, dictr_features in distributions.items():\n",
    "    for sample_size in sample_sizes:\n",
    "      distr, loc, scale = dictr_features\n",
    "      values = test_negentropy_for_distribution(distr, loc, scale, sample_size)\n",
    "      results.append(values)\n",
    "  res = pd.DataFrame(results, index = rows, columns = columns)\n",
    "  errors_df = res[['Real negentropy']].copy()\n",
    "  for column in columns:\n",
    "    if column == \"Real negentropy\":\n",
    "      continue\n",
    "    errors_df[column+\" error\"] = (res[\"Real negentropy\"]-res[column]).abs()\n",
    "  errors_df[\"best approx\"] = errors_df.loc[:, ~errors_df.columns.isin(['Real negentropy'])].idxmin(axis = 1)\n",
    "  errors_df[\"worst approx\"] = errors_df.loc[:, ~errors_df.columns.isin(['Real negentropy', 'best approx'])].idxmax(axis = 1)\n",
    "  return res, errors_df"
   ],
   "metadata": {
    "collapsed": false,
    "pycharm": {
     "name": "#%%\n"
    }
   }
  },
  {
   "cell_type": "code",
   "execution_count": 60,
   "outputs": [
    {
     "data": {
      "text/plain": "                Real negentropy  Negentropy1(1)  Negentropy1(1.5)  \\\n10 normal              0.000000    3.429213e-02      4.963064e-02   \n100 normal             0.000000    7.630709e-04      1.334193e-03   \n1000 normal            0.000000    1.678940e-05      1.559062e-05   \n10000 normal           0.000000    1.090155e-07      5.121072e-07   \n100000 normal          0.000000    1.734868e-05      1.632860e-05   \n10 uniform             0.176485    1.093389e-03      7.200277e-04   \n100 uniform            0.176485    1.922370e-03      4.131197e-03   \n1000 uniform           0.176485    4.954333e-04      1.295266e-03   \n10000 uniform          0.176485    4.822657e-04      1.237601e-03   \n100000 uniform         0.176485    9.006518e-04      1.998113e-03   \n10 laplace             0.072365    1.092417e-02      1.662059e-02   \n100 laplace            0.072365    4.005037e-03      3.368584e-03   \n1000 laplace           0.072365    6.824819e-04      1.611581e-03   \n10000 laplace          0.072365    1.412320e-03      3.003363e-03   \n100000 laplace         0.072365    1.174869e-03      2.575440e-03   \n\n                Negentropy1(2)   Negentropy2  Negentropy3  Negentropy4  \\\n10 normal         5.949772e-02  1.704256e-02     0.017060     1.032874   \n100 normal        1.641019e-03  7.793820e-04     0.011422     0.047235   \n1000 normal       2.617386e-05  8.949327e-07     0.000196     0.000969   \n10000 normal      2.935232e-07  1.484615e-06     0.000198     0.000044   \n100000 normal     2.833693e-05  3.435019e-07     0.000011     0.000069   \n10 uniform        3.833315e-04  7.454236e-06     0.049696     0.220388   \n100 uniform       6.197887e-03  3.474815e-03     0.042621     0.122855   \n1000 uniform      2.129586e-03  1.530864e-03     0.028168     0.044152   \n10000 uniform     2.007131e-03  1.479950e-03     0.027199     0.038006   \n100000 uniform    3.033137e-03  1.968829e-03     0.030662     0.055141   \n10 laplace        2.030104e-02  6.359224e-03     0.079471     0.358594   \n100 laplace       3.005556e-03  4.465490e-05     0.694495     0.012879   \n1000 laplace      2.305127e-03  1.625043e-03     0.062489     0.064706   \n10000 laplace     4.146088e-03  2.743469e-03     0.144873     0.101437   \n100000 laplace    3.577482e-03  2.529878e-03     0.173400     0.088503   \n\n                Negentropy5  MeanNegentropy  \n10 normal          0.576022        0.255203  \n100 normal         0.038958        0.014590  \n1000 normal        0.001015        0.000320  \n10000 normal       0.000020        0.000038  \n100000 normal      0.000042        0.000026  \n10 uniform         0.220281        0.070367  \n100 uniform        0.118966        0.042881  \n1000 uniform       0.052860        0.018662  \n10000 uniform      0.051238        0.017379  \n100000 uniform     0.067732        0.023062  \n10 laplace         0.213939        0.100887  \n100 laplace        0.001439        0.102748  \n1000 laplace       0.054749        0.026881  \n10000 laplace      0.090728        0.049763  \n100000 laplace     0.083572        0.050762  ",
      "text/html": "<div>\n<style scoped>\n    .dataframe tbody tr th:only-of-type {\n        vertical-align: middle;\n    }\n\n    .dataframe tbody tr th {\n        vertical-align: top;\n    }\n\n    .dataframe thead th {\n        text-align: right;\n    }\n</style>\n<table border=\"1\" class=\"dataframe\">\n  <thead>\n    <tr style=\"text-align: right;\">\n      <th></th>\n      <th>Real negentropy</th>\n      <th>Negentropy1(1)</th>\n      <th>Negentropy1(1.5)</th>\n      <th>Negentropy1(2)</th>\n      <th>Negentropy2</th>\n      <th>Negentropy3</th>\n      <th>Negentropy4</th>\n      <th>Negentropy5</th>\n      <th>MeanNegentropy</th>\n    </tr>\n  </thead>\n  <tbody>\n    <tr>\n      <th>10 normal</th>\n      <td>0.000000</td>\n      <td>3.429213e-02</td>\n      <td>4.963064e-02</td>\n      <td>5.949772e-02</td>\n      <td>1.704256e-02</td>\n      <td>0.017060</td>\n      <td>1.032874</td>\n      <td>0.576022</td>\n      <td>0.255203</td>\n    </tr>\n    <tr>\n      <th>100 normal</th>\n      <td>0.000000</td>\n      <td>7.630709e-04</td>\n      <td>1.334193e-03</td>\n      <td>1.641019e-03</td>\n      <td>7.793820e-04</td>\n      <td>0.011422</td>\n      <td>0.047235</td>\n      <td>0.038958</td>\n      <td>0.014590</td>\n    </tr>\n    <tr>\n      <th>1000 normal</th>\n      <td>0.000000</td>\n      <td>1.678940e-05</td>\n      <td>1.559062e-05</td>\n      <td>2.617386e-05</td>\n      <td>8.949327e-07</td>\n      <td>0.000196</td>\n      <td>0.000969</td>\n      <td>0.001015</td>\n      <td>0.000320</td>\n    </tr>\n    <tr>\n      <th>10000 normal</th>\n      <td>0.000000</td>\n      <td>1.090155e-07</td>\n      <td>5.121072e-07</td>\n      <td>2.935232e-07</td>\n      <td>1.484615e-06</td>\n      <td>0.000198</td>\n      <td>0.000044</td>\n      <td>0.000020</td>\n      <td>0.000038</td>\n    </tr>\n    <tr>\n      <th>100000 normal</th>\n      <td>0.000000</td>\n      <td>1.734868e-05</td>\n      <td>1.632860e-05</td>\n      <td>2.833693e-05</td>\n      <td>3.435019e-07</td>\n      <td>0.000011</td>\n      <td>0.000069</td>\n      <td>0.000042</td>\n      <td>0.000026</td>\n    </tr>\n    <tr>\n      <th>10 uniform</th>\n      <td>0.176485</td>\n      <td>1.093389e-03</td>\n      <td>7.200277e-04</td>\n      <td>3.833315e-04</td>\n      <td>7.454236e-06</td>\n      <td>0.049696</td>\n      <td>0.220388</td>\n      <td>0.220281</td>\n      <td>0.070367</td>\n    </tr>\n    <tr>\n      <th>100 uniform</th>\n      <td>0.176485</td>\n      <td>1.922370e-03</td>\n      <td>4.131197e-03</td>\n      <td>6.197887e-03</td>\n      <td>3.474815e-03</td>\n      <td>0.042621</td>\n      <td>0.122855</td>\n      <td>0.118966</td>\n      <td>0.042881</td>\n    </tr>\n    <tr>\n      <th>1000 uniform</th>\n      <td>0.176485</td>\n      <td>4.954333e-04</td>\n      <td>1.295266e-03</td>\n      <td>2.129586e-03</td>\n      <td>1.530864e-03</td>\n      <td>0.028168</td>\n      <td>0.044152</td>\n      <td>0.052860</td>\n      <td>0.018662</td>\n    </tr>\n    <tr>\n      <th>10000 uniform</th>\n      <td>0.176485</td>\n      <td>4.822657e-04</td>\n      <td>1.237601e-03</td>\n      <td>2.007131e-03</td>\n      <td>1.479950e-03</td>\n      <td>0.027199</td>\n      <td>0.038006</td>\n      <td>0.051238</td>\n      <td>0.017379</td>\n    </tr>\n    <tr>\n      <th>100000 uniform</th>\n      <td>0.176485</td>\n      <td>9.006518e-04</td>\n      <td>1.998113e-03</td>\n      <td>3.033137e-03</td>\n      <td>1.968829e-03</td>\n      <td>0.030662</td>\n      <td>0.055141</td>\n      <td>0.067732</td>\n      <td>0.023062</td>\n    </tr>\n    <tr>\n      <th>10 laplace</th>\n      <td>0.072365</td>\n      <td>1.092417e-02</td>\n      <td>1.662059e-02</td>\n      <td>2.030104e-02</td>\n      <td>6.359224e-03</td>\n      <td>0.079471</td>\n      <td>0.358594</td>\n      <td>0.213939</td>\n      <td>0.100887</td>\n    </tr>\n    <tr>\n      <th>100 laplace</th>\n      <td>0.072365</td>\n      <td>4.005037e-03</td>\n      <td>3.368584e-03</td>\n      <td>3.005556e-03</td>\n      <td>4.465490e-05</td>\n      <td>0.694495</td>\n      <td>0.012879</td>\n      <td>0.001439</td>\n      <td>0.102748</td>\n    </tr>\n    <tr>\n      <th>1000 laplace</th>\n      <td>0.072365</td>\n      <td>6.824819e-04</td>\n      <td>1.611581e-03</td>\n      <td>2.305127e-03</td>\n      <td>1.625043e-03</td>\n      <td>0.062489</td>\n      <td>0.064706</td>\n      <td>0.054749</td>\n      <td>0.026881</td>\n    </tr>\n    <tr>\n      <th>10000 laplace</th>\n      <td>0.072365</td>\n      <td>1.412320e-03</td>\n      <td>3.003363e-03</td>\n      <td>4.146088e-03</td>\n      <td>2.743469e-03</td>\n      <td>0.144873</td>\n      <td>0.101437</td>\n      <td>0.090728</td>\n      <td>0.049763</td>\n    </tr>\n    <tr>\n      <th>100000 laplace</th>\n      <td>0.072365</td>\n      <td>1.174869e-03</td>\n      <td>2.575440e-03</td>\n      <td>3.577482e-03</td>\n      <td>2.529878e-03</td>\n      <td>0.173400</td>\n      <td>0.088503</td>\n      <td>0.083572</td>\n      <td>0.050762</td>\n    </tr>\n  </tbody>\n</table>\n</div>"
     },
     "execution_count": 60,
     "metadata": {},
     "output_type": "execute_result"
    }
   ],
   "source": [
    "values, errors = experiment()\n",
    "values"
   ],
   "metadata": {
    "collapsed": false,
    "pycharm": {
     "name": "#%%\n"
    }
   }
  },
  {
   "cell_type": "code",
   "execution_count": 61,
   "outputs": [
    {
     "data": {
      "text/plain": "                Real negentropy  Negentropy1(1) error  Negentropy1(1.5) error  \\\n10 normal              0.000000          3.429213e-02            4.963064e-02   \n100 normal             0.000000          7.630709e-04            1.334193e-03   \n1000 normal            0.000000          1.678940e-05            1.559062e-05   \n10000 normal           0.000000          1.090155e-07            5.121072e-07   \n100000 normal          0.000000          1.734868e-05            1.632860e-05   \n10 uniform             0.176485          1.753918e-01            1.757652e-01   \n100 uniform            0.176485          1.745628e-01            1.723540e-01   \n1000 uniform           0.176485          1.759898e-01            1.751899e-01   \n10000 uniform          0.176485          1.760029e-01            1.752476e-01   \n100000 uniform         0.176485          1.755846e-01            1.744871e-01   \n10 laplace             0.072365          6.144077e-02            5.574435e-02   \n100 laplace            0.072365          6.835991e-02            6.899636e-02   \n1000 laplace           0.072365          7.168246e-02            7.075336e-02   \n10000 laplace          0.072365          7.095262e-02            6.936158e-02   \n100000 laplace         0.072365          7.119007e-02            6.978950e-02   \n\n                Negentropy1(2) error  Negentropy2 error  Negentropy3 error  \\\n10 normal               5.949772e-02       1.704256e-02           0.017060   \n100 normal              1.641019e-03       7.793820e-04           0.011422   \n1000 normal             2.617386e-05       8.949327e-07           0.000196   \n10000 normal            2.935232e-07       1.484615e-06           0.000198   \n100000 normal           2.833693e-05       3.435019e-07           0.000011   \n10 uniform              1.761019e-01       1.764778e-01           0.126790   \n100 uniform             1.702873e-01       1.730104e-01           0.133864   \n1000 uniform            1.743556e-01       1.749543e-01           0.148317   \n10000 uniform           1.744781e-01       1.750053e-01           0.149286   \n100000 uniform          1.734521e-01       1.745164e-01           0.145823   \n10 laplace              5.206391e-02       6.600572e-02           0.007106   \n100 laplace             6.935939e-02       7.232029e-02           0.622130   \n1000 laplace            7.005982e-02       7.073990e-02           0.009876   \n10000 laplace           6.821886e-02       6.962147e-02           0.072508   \n100000 laplace          6.878746e-02       6.983506e-02           0.101035   \n\n                Negentropy4 error  Negentropy5 error  MeanNegentropy error  \\\n10 normal                1.032874           0.576022              0.255203   \n100 normal               0.047235           0.038958              0.014590   \n1000 normal              0.000969           0.001015              0.000320   \n10000 normal             0.000044           0.000020              0.000038   \n100000 normal            0.000069           0.000042              0.000026   \n10 uniform               0.043903           0.043795              0.106118   \n100 uniform              0.053630           0.057520              0.133604   \n1000 uniform             0.132333           0.123625              0.157824   \n10000 uniform            0.138479           0.125247              0.159107   \n100000 uniform           0.121344           0.108753              0.153423   \n10 laplace               0.286229           0.141574              0.028522   \n100 laplace              0.059486           0.070925              0.030383   \n1000 laplace             0.007659           0.017616              0.045484   \n10000 laplace            0.029072           0.018363              0.022602   \n100000 laplace           0.016138           0.011208              0.021603   \n\n                         best approx          worst approx  \n10 normal          Negentropy2 error     Negentropy4 error  \n100 normal      Negentropy1(1) error     Negentropy4 error  \n1000 normal        Negentropy2 error     Negentropy5 error  \n10000 normal    Negentropy1(1) error     Negentropy3 error  \n100000 normal      Negentropy2 error     Negentropy4 error  \n10 uniform         Negentropy5 error     Negentropy2 error  \n100 uniform        Negentropy4 error  Negentropy1(1) error  \n1000 uniform       Negentropy5 error  Negentropy1(1) error  \n10000 uniform      Negentropy5 error  Negentropy1(1) error  \n100000 uniform     Negentropy5 error  Negentropy1(1) error  \n10 laplace         Negentropy3 error     Negentropy4 error  \n100 laplace     MeanNegentropy error     Negentropy3 error  \n1000 laplace       Negentropy4 error  Negentropy1(1) error  \n10000 laplace      Negentropy5 error     Negentropy3 error  \n100000 laplace     Negentropy5 error     Negentropy3 error  ",
      "text/html": "<div>\n<style scoped>\n    .dataframe tbody tr th:only-of-type {\n        vertical-align: middle;\n    }\n\n    .dataframe tbody tr th {\n        vertical-align: top;\n    }\n\n    .dataframe thead th {\n        text-align: right;\n    }\n</style>\n<table border=\"1\" class=\"dataframe\">\n  <thead>\n    <tr style=\"text-align: right;\">\n      <th></th>\n      <th>Real negentropy</th>\n      <th>Negentropy1(1) error</th>\n      <th>Negentropy1(1.5) error</th>\n      <th>Negentropy1(2) error</th>\n      <th>Negentropy2 error</th>\n      <th>Negentropy3 error</th>\n      <th>Negentropy4 error</th>\n      <th>Negentropy5 error</th>\n      <th>MeanNegentropy error</th>\n      <th>best approx</th>\n      <th>worst approx</th>\n    </tr>\n  </thead>\n  <tbody>\n    <tr>\n      <th>10 normal</th>\n      <td>0.000000</td>\n      <td>3.429213e-02</td>\n      <td>4.963064e-02</td>\n      <td>5.949772e-02</td>\n      <td>1.704256e-02</td>\n      <td>0.017060</td>\n      <td>1.032874</td>\n      <td>0.576022</td>\n      <td>0.255203</td>\n      <td>Negentropy2 error</td>\n      <td>Negentropy4 error</td>\n    </tr>\n    <tr>\n      <th>100 normal</th>\n      <td>0.000000</td>\n      <td>7.630709e-04</td>\n      <td>1.334193e-03</td>\n      <td>1.641019e-03</td>\n      <td>7.793820e-04</td>\n      <td>0.011422</td>\n      <td>0.047235</td>\n      <td>0.038958</td>\n      <td>0.014590</td>\n      <td>Negentropy1(1) error</td>\n      <td>Negentropy4 error</td>\n    </tr>\n    <tr>\n      <th>1000 normal</th>\n      <td>0.000000</td>\n      <td>1.678940e-05</td>\n      <td>1.559062e-05</td>\n      <td>2.617386e-05</td>\n      <td>8.949327e-07</td>\n      <td>0.000196</td>\n      <td>0.000969</td>\n      <td>0.001015</td>\n      <td>0.000320</td>\n      <td>Negentropy2 error</td>\n      <td>Negentropy5 error</td>\n    </tr>\n    <tr>\n      <th>10000 normal</th>\n      <td>0.000000</td>\n      <td>1.090155e-07</td>\n      <td>5.121072e-07</td>\n      <td>2.935232e-07</td>\n      <td>1.484615e-06</td>\n      <td>0.000198</td>\n      <td>0.000044</td>\n      <td>0.000020</td>\n      <td>0.000038</td>\n      <td>Negentropy1(1) error</td>\n      <td>Negentropy3 error</td>\n    </tr>\n    <tr>\n      <th>100000 normal</th>\n      <td>0.000000</td>\n      <td>1.734868e-05</td>\n      <td>1.632860e-05</td>\n      <td>2.833693e-05</td>\n      <td>3.435019e-07</td>\n      <td>0.000011</td>\n      <td>0.000069</td>\n      <td>0.000042</td>\n      <td>0.000026</td>\n      <td>Negentropy2 error</td>\n      <td>Negentropy4 error</td>\n    </tr>\n    <tr>\n      <th>10 uniform</th>\n      <td>0.176485</td>\n      <td>1.753918e-01</td>\n      <td>1.757652e-01</td>\n      <td>1.761019e-01</td>\n      <td>1.764778e-01</td>\n      <td>0.126790</td>\n      <td>0.043903</td>\n      <td>0.043795</td>\n      <td>0.106118</td>\n      <td>Negentropy5 error</td>\n      <td>Negentropy2 error</td>\n    </tr>\n    <tr>\n      <th>100 uniform</th>\n      <td>0.176485</td>\n      <td>1.745628e-01</td>\n      <td>1.723540e-01</td>\n      <td>1.702873e-01</td>\n      <td>1.730104e-01</td>\n      <td>0.133864</td>\n      <td>0.053630</td>\n      <td>0.057520</td>\n      <td>0.133604</td>\n      <td>Negentropy4 error</td>\n      <td>Negentropy1(1) error</td>\n    </tr>\n    <tr>\n      <th>1000 uniform</th>\n      <td>0.176485</td>\n      <td>1.759898e-01</td>\n      <td>1.751899e-01</td>\n      <td>1.743556e-01</td>\n      <td>1.749543e-01</td>\n      <td>0.148317</td>\n      <td>0.132333</td>\n      <td>0.123625</td>\n      <td>0.157824</td>\n      <td>Negentropy5 error</td>\n      <td>Negentropy1(1) error</td>\n    </tr>\n    <tr>\n      <th>10000 uniform</th>\n      <td>0.176485</td>\n      <td>1.760029e-01</td>\n      <td>1.752476e-01</td>\n      <td>1.744781e-01</td>\n      <td>1.750053e-01</td>\n      <td>0.149286</td>\n      <td>0.138479</td>\n      <td>0.125247</td>\n      <td>0.159107</td>\n      <td>Negentropy5 error</td>\n      <td>Negentropy1(1) error</td>\n    </tr>\n    <tr>\n      <th>100000 uniform</th>\n      <td>0.176485</td>\n      <td>1.755846e-01</td>\n      <td>1.744871e-01</td>\n      <td>1.734521e-01</td>\n      <td>1.745164e-01</td>\n      <td>0.145823</td>\n      <td>0.121344</td>\n      <td>0.108753</td>\n      <td>0.153423</td>\n      <td>Negentropy5 error</td>\n      <td>Negentropy1(1) error</td>\n    </tr>\n    <tr>\n      <th>10 laplace</th>\n      <td>0.072365</td>\n      <td>6.144077e-02</td>\n      <td>5.574435e-02</td>\n      <td>5.206391e-02</td>\n      <td>6.600572e-02</td>\n      <td>0.007106</td>\n      <td>0.286229</td>\n      <td>0.141574</td>\n      <td>0.028522</td>\n      <td>Negentropy3 error</td>\n      <td>Negentropy4 error</td>\n    </tr>\n    <tr>\n      <th>100 laplace</th>\n      <td>0.072365</td>\n      <td>6.835991e-02</td>\n      <td>6.899636e-02</td>\n      <td>6.935939e-02</td>\n      <td>7.232029e-02</td>\n      <td>0.622130</td>\n      <td>0.059486</td>\n      <td>0.070925</td>\n      <td>0.030383</td>\n      <td>MeanNegentropy error</td>\n      <td>Negentropy3 error</td>\n    </tr>\n    <tr>\n      <th>1000 laplace</th>\n      <td>0.072365</td>\n      <td>7.168246e-02</td>\n      <td>7.075336e-02</td>\n      <td>7.005982e-02</td>\n      <td>7.073990e-02</td>\n      <td>0.009876</td>\n      <td>0.007659</td>\n      <td>0.017616</td>\n      <td>0.045484</td>\n      <td>Negentropy4 error</td>\n      <td>Negentropy1(1) error</td>\n    </tr>\n    <tr>\n      <th>10000 laplace</th>\n      <td>0.072365</td>\n      <td>7.095262e-02</td>\n      <td>6.936158e-02</td>\n      <td>6.821886e-02</td>\n      <td>6.962147e-02</td>\n      <td>0.072508</td>\n      <td>0.029072</td>\n      <td>0.018363</td>\n      <td>0.022602</td>\n      <td>Negentropy5 error</td>\n      <td>Negentropy3 error</td>\n    </tr>\n    <tr>\n      <th>100000 laplace</th>\n      <td>0.072365</td>\n      <td>7.119007e-02</td>\n      <td>6.978950e-02</td>\n      <td>6.878746e-02</td>\n      <td>6.983506e-02</td>\n      <td>0.101035</td>\n      <td>0.016138</td>\n      <td>0.011208</td>\n      <td>0.021603</td>\n      <td>Negentropy5 error</td>\n      <td>Negentropy3 error</td>\n    </tr>\n  </tbody>\n</table>\n</div>"
     },
     "execution_count": 61,
     "metadata": {},
     "output_type": "execute_result"
    }
   ],
   "source": [
    "errors"
   ],
   "metadata": {
    "collapsed": false,
    "pycharm": {
     "name": "#%%\n"
    }
   }
  },
  {
   "cell_type": "markdown",
   "source": [
    "------\n",
    "Попробуем запустить еще серию экспериментов: проверим какой максимальный/минимальный размер ошибки можем получить этими приближениями, какой средний размер ошибки и ее разброс\n",
    "\n",
    "Для этого для каждого приближения запустим n раз вычисления на зафиксированных распределениях и разных разных размерах выборки, а потом посчитаем метрики"
   ],
   "metadata": {
    "collapsed": false
   }
  },
  {
   "cell_type": "code",
   "execution_count": 79,
   "outputs": [],
   "source": [
    "sample_sizes = [10, 100, 500, 1000, 10000, 100000]\n",
    "\n",
    "columns = [\"Sample size\", \"Max error\", \"Min error\", \"Mean\", \"Std\"]\n",
    "rows = []\n",
    "result = []"
   ],
   "metadata": {
    "collapsed": false,
    "pycharm": {
     "name": "#%%\n"
    }
   }
  },
  {
   "cell_type": "code",
   "execution_count": 80,
   "outputs": [],
   "source": [
    "def calculate_metrics_for_approx(scipy_stats_distr, loc : float, scale : float, approx_f : Callable, sample_size : int, n : int = 1000):\n",
    "  real_negentropy = NormalEntropy()() - scipy_stats_distr.entropy(loc, scale)\n",
    "  errors = []\n",
    "  for i in range(n):\n",
    "    sample = torch.from_numpy(scipy_stats_distr.rvs(loc, scale, sample_size))\n",
    "    negentropy_approx = approx_f(sample).item()\n",
    "    errors.append(abs(real_negentropy-negentropy_approx))\n",
    "\n",
    "  return errors"
   ],
   "metadata": {
    "collapsed": false,
    "pycharm": {
     "name": "#%%\n"
    }
   }
  },
  {
   "cell_type": "code",
   "execution_count": 81,
   "outputs": [],
   "source": [
    "for approx_name, negentropy_approx in all_negentropy_approx.items():\n",
    "  for sample_size in sample_sizes:\n",
    "    rows.append(f\"{approx_name}\")\n",
    "    row_errors = []\n",
    "    for distr_name, features in distributions.items():\n",
    "      distr, loc, scale = features\n",
    "      row_errors += calculate_metrics_for_approx(distr, loc, scale, negentropy_approx, sample_size)\n",
    "\n",
    "    result.append([sample_size, np.max(row_errors), np.min(row_errors), np.mean(row_errors), np.std(row_errors)])"
   ],
   "metadata": {
    "collapsed": false,
    "pycharm": {
     "name": "#%%\n"
    }
   }
  },
  {
   "cell_type": "code",
   "execution_count": 83,
   "outputs": [
    {
     "data": {
      "text/plain": "                        Sample size   Max error     Min error      Mean  \\\nNegentropyApprox1(1)             10    0.594406  2.608066e-08  0.079577   \nNegentropyApprox1(1)            100    0.176485  8.353156e-10  0.081489   \nNegentropyApprox1(1)            500    0.176485  1.202305e-09  0.082139   \nNegentropyApprox1(1)           1000    0.176485  1.706786e-10  0.082228   \nNegentropyApprox1(1)          10000    0.176168  2.712721e-11  0.082273   \nNegentropyApprox1(1)         100000    0.175863  1.413568e-11  0.082281   \nNegentropyApprox1(1.5)           10    0.479046  1.687357e-08  0.079376   \nNegentropyApprox1(1.5)          100    0.176485  1.432465e-09  0.080545   \nNegentropyApprox1(1.5)          500    0.176485  2.014585e-11  0.081269   \nNegentropyApprox1(1.5)         1000    0.176473  1.752347e-09  0.081352   \nNegentropyApprox1(1.5)        10000    0.175609  7.099797e-12  0.081443   \nNegentropyApprox1(1.5)       100000    0.174959  6.895613e-12  0.081459   \nNegentropyApprox1(2)             10    1.193198  2.930608e-09  0.079095   \nNegentropyApprox1(2)            100    0.176485  9.636471e-09  0.079734   \nNegentropyApprox1(2)            500    0.176485  2.395191e-09  0.080581   \nNegentropyApprox1(2)           1000    0.176417  5.871111e-10  0.080742   \nNegentropyApprox1(2)          10000    0.174953  4.099431e-11  0.080762   \nNegentropyApprox1(2)         100000    0.174186  6.511291e-11  0.080781   \nNegentropyApprox2                10    0.176485  4.588855e-09  0.079477   \nNegentropyApprox2               100    0.176485  1.241000e-10  0.081219   \nNegentropyApprox2               500    0.176484  2.845237e-10  0.081424   \nNegentropyApprox2              1000    0.176206  2.035100e-11  0.081414   \nNegentropyApprox2             10000    0.175246  1.513981e-12  0.081454   \nNegentropyApprox2            100000    0.174811  1.479867e-14  0.081450   \nNegentropyApprox3                10  283.047099  5.075092e-08  0.499899   \nNegentropyApprox3               100  185.758296  3.216984e-05  0.262727   \nNegentropyApprox3               500   22.747182  6.178327e-06  0.130404   \nNegentropyApprox3              1000    2.152028  3.335260e-06  0.100035   \nNegentropyApprox3             10000    0.547096  7.136596e-08  0.088567   \nNegentropyApprox3            100000    0.175128  4.201661e-08  0.087735   \nNegentropyApprox4                10   16.173287  1.960380e-04  0.538388   \nNegentropyApprox4               100    0.762108  8.801874e-05  0.089514   \nNegentropyApprox4               500    0.326555  5.421378e-06  0.059848   \nNegentropyApprox4              1000    0.196957  4.375020e-06  0.055464   \nNegentropyApprox4             10000    0.145633  3.859582e-07  0.048435   \nNegentropyApprox4            100000    0.131771  1.244024e-08  0.048018   \nNegentropyApprox5                10    6.940723  9.041453e-05  0.383112   \nNegentropyApprox5               100    0.665296  7.650940e-06  0.072526   \nNegentropyApprox5               500    0.199336  9.443109e-06  0.050695   \nNegentropyApprox5              1000    0.191071  2.188402e-07  0.046455   \nNegentropyApprox5             10000    0.133576  1.541825e-07  0.042540   \nNegentropyApprox5            100000    0.118593  1.429211e-07  0.042133   \n\n                             Std  \nNegentropyApprox1(1)    0.068959  \nNegentropyApprox1(1)    0.071251  \nNegentropyApprox1(1)    0.071949  \nNegentropyApprox1(1)    0.072052  \nNegentropyApprox1(1)    0.072135  \nNegentropyApprox1(1)    0.072144  \nNegentropyApprox1(1.5)  0.067226  \nNegentropyApprox1(1.5)  0.070581  \nNegentropyApprox1(1.5)  0.071563  \nNegentropyApprox1(1.5)  0.071625  \nNegentropyApprox1(1.5)  0.071764  \nNegentropyApprox1(1.5)  0.071780  \nNegentropyApprox1(2)    0.068947  \nNegentropyApprox1(2)    0.070027  \nNegentropyApprox1(2)    0.071052  \nNegentropyApprox1(2)    0.071280  \nNegentropyApprox1(2)    0.071392  \nNegentropyApprox1(2)    0.071404  \nNegentropyApprox2       0.067567  \nNegentropyApprox2       0.071241  \nNegentropyApprox2       0.071683  \nNegentropyApprox2       0.071693  \nNegentropyApprox2       0.071763  \nNegentropyApprox2       0.071763  \nNegentropyApprox3       5.813856  \nNegentropyApprox3       3.545178  \nNegentropyApprox3       0.535651  \nNegentropyApprox3       0.137394  \nNegentropyApprox3       0.070362  \nNegentropyApprox3       0.063854  \nNegentropyApprox4       0.686078  \nNegentropyApprox4       0.088613  \nNegentropyApprox4       0.055455  \nNegentropyApprox4       0.054475  \nNegentropyApprox4       0.055213  \nNegentropyApprox4       0.054993  \nNegentropyApprox5       0.437564  \nNegentropyApprox5       0.067293  \nNegentropyApprox5       0.049168  \nNegentropyApprox5       0.048300  \nNegentropyApprox5       0.049831  \nNegentropyApprox5       0.049721  ",
      "text/html": "<div>\n<style scoped>\n    .dataframe tbody tr th:only-of-type {\n        vertical-align: middle;\n    }\n\n    .dataframe tbody tr th {\n        vertical-align: top;\n    }\n\n    .dataframe thead th {\n        text-align: right;\n    }\n</style>\n<table border=\"1\" class=\"dataframe\">\n  <thead>\n    <tr style=\"text-align: right;\">\n      <th></th>\n      <th>Sample size</th>\n      <th>Max error</th>\n      <th>Min error</th>\n      <th>Mean</th>\n      <th>Std</th>\n    </tr>\n  </thead>\n  <tbody>\n    <tr>\n      <th>NegentropyApprox1(1)</th>\n      <td>10</td>\n      <td>0.594406</td>\n      <td>2.608066e-08</td>\n      <td>0.079577</td>\n      <td>0.068959</td>\n    </tr>\n    <tr>\n      <th>NegentropyApprox1(1)</th>\n      <td>100</td>\n      <td>0.176485</td>\n      <td>8.353156e-10</td>\n      <td>0.081489</td>\n      <td>0.071251</td>\n    </tr>\n    <tr>\n      <th>NegentropyApprox1(1)</th>\n      <td>500</td>\n      <td>0.176485</td>\n      <td>1.202305e-09</td>\n      <td>0.082139</td>\n      <td>0.071949</td>\n    </tr>\n    <tr>\n      <th>NegentropyApprox1(1)</th>\n      <td>1000</td>\n      <td>0.176485</td>\n      <td>1.706786e-10</td>\n      <td>0.082228</td>\n      <td>0.072052</td>\n    </tr>\n    <tr>\n      <th>NegentropyApprox1(1)</th>\n      <td>10000</td>\n      <td>0.176168</td>\n      <td>2.712721e-11</td>\n      <td>0.082273</td>\n      <td>0.072135</td>\n    </tr>\n    <tr>\n      <th>NegentropyApprox1(1)</th>\n      <td>100000</td>\n      <td>0.175863</td>\n      <td>1.413568e-11</td>\n      <td>0.082281</td>\n      <td>0.072144</td>\n    </tr>\n    <tr>\n      <th>NegentropyApprox1(1.5)</th>\n      <td>10</td>\n      <td>0.479046</td>\n      <td>1.687357e-08</td>\n      <td>0.079376</td>\n      <td>0.067226</td>\n    </tr>\n    <tr>\n      <th>NegentropyApprox1(1.5)</th>\n      <td>100</td>\n      <td>0.176485</td>\n      <td>1.432465e-09</td>\n      <td>0.080545</td>\n      <td>0.070581</td>\n    </tr>\n    <tr>\n      <th>NegentropyApprox1(1.5)</th>\n      <td>500</td>\n      <td>0.176485</td>\n      <td>2.014585e-11</td>\n      <td>0.081269</td>\n      <td>0.071563</td>\n    </tr>\n    <tr>\n      <th>NegentropyApprox1(1.5)</th>\n      <td>1000</td>\n      <td>0.176473</td>\n      <td>1.752347e-09</td>\n      <td>0.081352</td>\n      <td>0.071625</td>\n    </tr>\n    <tr>\n      <th>NegentropyApprox1(1.5)</th>\n      <td>10000</td>\n      <td>0.175609</td>\n      <td>7.099797e-12</td>\n      <td>0.081443</td>\n      <td>0.071764</td>\n    </tr>\n    <tr>\n      <th>NegentropyApprox1(1.5)</th>\n      <td>100000</td>\n      <td>0.174959</td>\n      <td>6.895613e-12</td>\n      <td>0.081459</td>\n      <td>0.071780</td>\n    </tr>\n    <tr>\n      <th>NegentropyApprox1(2)</th>\n      <td>10</td>\n      <td>1.193198</td>\n      <td>2.930608e-09</td>\n      <td>0.079095</td>\n      <td>0.068947</td>\n    </tr>\n    <tr>\n      <th>NegentropyApprox1(2)</th>\n      <td>100</td>\n      <td>0.176485</td>\n      <td>9.636471e-09</td>\n      <td>0.079734</td>\n      <td>0.070027</td>\n    </tr>\n    <tr>\n      <th>NegentropyApprox1(2)</th>\n      <td>500</td>\n      <td>0.176485</td>\n      <td>2.395191e-09</td>\n      <td>0.080581</td>\n      <td>0.071052</td>\n    </tr>\n    <tr>\n      <th>NegentropyApprox1(2)</th>\n      <td>1000</td>\n      <td>0.176417</td>\n      <td>5.871111e-10</td>\n      <td>0.080742</td>\n      <td>0.071280</td>\n    </tr>\n    <tr>\n      <th>NegentropyApprox1(2)</th>\n      <td>10000</td>\n      <td>0.174953</td>\n      <td>4.099431e-11</td>\n      <td>0.080762</td>\n      <td>0.071392</td>\n    </tr>\n    <tr>\n      <th>NegentropyApprox1(2)</th>\n      <td>100000</td>\n      <td>0.174186</td>\n      <td>6.511291e-11</td>\n      <td>0.080781</td>\n      <td>0.071404</td>\n    </tr>\n    <tr>\n      <th>NegentropyApprox2</th>\n      <td>10</td>\n      <td>0.176485</td>\n      <td>4.588855e-09</td>\n      <td>0.079477</td>\n      <td>0.067567</td>\n    </tr>\n    <tr>\n      <th>NegentropyApprox2</th>\n      <td>100</td>\n      <td>0.176485</td>\n      <td>1.241000e-10</td>\n      <td>0.081219</td>\n      <td>0.071241</td>\n    </tr>\n    <tr>\n      <th>NegentropyApprox2</th>\n      <td>500</td>\n      <td>0.176484</td>\n      <td>2.845237e-10</td>\n      <td>0.081424</td>\n      <td>0.071683</td>\n    </tr>\n    <tr>\n      <th>NegentropyApprox2</th>\n      <td>1000</td>\n      <td>0.176206</td>\n      <td>2.035100e-11</td>\n      <td>0.081414</td>\n      <td>0.071693</td>\n    </tr>\n    <tr>\n      <th>NegentropyApprox2</th>\n      <td>10000</td>\n      <td>0.175246</td>\n      <td>1.513981e-12</td>\n      <td>0.081454</td>\n      <td>0.071763</td>\n    </tr>\n    <tr>\n      <th>NegentropyApprox2</th>\n      <td>100000</td>\n      <td>0.174811</td>\n      <td>1.479867e-14</td>\n      <td>0.081450</td>\n      <td>0.071763</td>\n    </tr>\n    <tr>\n      <th>NegentropyApprox3</th>\n      <td>10</td>\n      <td>283.047099</td>\n      <td>5.075092e-08</td>\n      <td>0.499899</td>\n      <td>5.813856</td>\n    </tr>\n    <tr>\n      <th>NegentropyApprox3</th>\n      <td>100</td>\n      <td>185.758296</td>\n      <td>3.216984e-05</td>\n      <td>0.262727</td>\n      <td>3.545178</td>\n    </tr>\n    <tr>\n      <th>NegentropyApprox3</th>\n      <td>500</td>\n      <td>22.747182</td>\n      <td>6.178327e-06</td>\n      <td>0.130404</td>\n      <td>0.535651</td>\n    </tr>\n    <tr>\n      <th>NegentropyApprox3</th>\n      <td>1000</td>\n      <td>2.152028</td>\n      <td>3.335260e-06</td>\n      <td>0.100035</td>\n      <td>0.137394</td>\n    </tr>\n    <tr>\n      <th>NegentropyApprox3</th>\n      <td>10000</td>\n      <td>0.547096</td>\n      <td>7.136596e-08</td>\n      <td>0.088567</td>\n      <td>0.070362</td>\n    </tr>\n    <tr>\n      <th>NegentropyApprox3</th>\n      <td>100000</td>\n      <td>0.175128</td>\n      <td>4.201661e-08</td>\n      <td>0.087735</td>\n      <td>0.063854</td>\n    </tr>\n    <tr>\n      <th>NegentropyApprox4</th>\n      <td>10</td>\n      <td>16.173287</td>\n      <td>1.960380e-04</td>\n      <td>0.538388</td>\n      <td>0.686078</td>\n    </tr>\n    <tr>\n      <th>NegentropyApprox4</th>\n      <td>100</td>\n      <td>0.762108</td>\n      <td>8.801874e-05</td>\n      <td>0.089514</td>\n      <td>0.088613</td>\n    </tr>\n    <tr>\n      <th>NegentropyApprox4</th>\n      <td>500</td>\n      <td>0.326555</td>\n      <td>5.421378e-06</td>\n      <td>0.059848</td>\n      <td>0.055455</td>\n    </tr>\n    <tr>\n      <th>NegentropyApprox4</th>\n      <td>1000</td>\n      <td>0.196957</td>\n      <td>4.375020e-06</td>\n      <td>0.055464</td>\n      <td>0.054475</td>\n    </tr>\n    <tr>\n      <th>NegentropyApprox4</th>\n      <td>10000</td>\n      <td>0.145633</td>\n      <td>3.859582e-07</td>\n      <td>0.048435</td>\n      <td>0.055213</td>\n    </tr>\n    <tr>\n      <th>NegentropyApprox4</th>\n      <td>100000</td>\n      <td>0.131771</td>\n      <td>1.244024e-08</td>\n      <td>0.048018</td>\n      <td>0.054993</td>\n    </tr>\n    <tr>\n      <th>NegentropyApprox5</th>\n      <td>10</td>\n      <td>6.940723</td>\n      <td>9.041453e-05</td>\n      <td>0.383112</td>\n      <td>0.437564</td>\n    </tr>\n    <tr>\n      <th>NegentropyApprox5</th>\n      <td>100</td>\n      <td>0.665296</td>\n      <td>7.650940e-06</td>\n      <td>0.072526</td>\n      <td>0.067293</td>\n    </tr>\n    <tr>\n      <th>NegentropyApprox5</th>\n      <td>500</td>\n      <td>0.199336</td>\n      <td>9.443109e-06</td>\n      <td>0.050695</td>\n      <td>0.049168</td>\n    </tr>\n    <tr>\n      <th>NegentropyApprox5</th>\n      <td>1000</td>\n      <td>0.191071</td>\n      <td>2.188402e-07</td>\n      <td>0.046455</td>\n      <td>0.048300</td>\n    </tr>\n    <tr>\n      <th>NegentropyApprox5</th>\n      <td>10000</td>\n      <td>0.133576</td>\n      <td>1.541825e-07</td>\n      <td>0.042540</td>\n      <td>0.049831</td>\n    </tr>\n    <tr>\n      <th>NegentropyApprox5</th>\n      <td>100000</td>\n      <td>0.118593</td>\n      <td>1.429211e-07</td>\n      <td>0.042133</td>\n      <td>0.049721</td>\n    </tr>\n  </tbody>\n</table>\n</div>"
     },
     "execution_count": 83,
     "metadata": {},
     "output_type": "execute_result"
    }
   ],
   "source": [
    "errors_df = pd.DataFrame(result, index = rows, columns = columns)\n",
    "errors_df"
   ],
   "metadata": {
    "collapsed": false,
    "pycharm": {
     "name": "#%%\n"
    }
   }
  },
  {
   "cell_type": "code",
   "execution_count": 84,
   "outputs": [
    {
     "data": {
      "text/plain": "                        Sample size   Max error     Min error      Mean  \\\nNegentropyApprox1(2)             10    1.193198  2.930608e-09  0.079095   \nNegentropyApprox1(1.5)           10    0.479046  1.687357e-08  0.079376   \nNegentropyApprox2                10    0.176485  4.588855e-09  0.079477   \nNegentropyApprox1(1)             10    0.594406  2.608066e-08  0.079577   \nNegentropyApprox5                10    6.940723  9.041453e-05  0.383112   \nNegentropyApprox3                10  283.047099  5.075092e-08  0.499899   \nNegentropyApprox4                10   16.173287  1.960380e-04  0.538388   \nNegentropyApprox5               100    0.665296  7.650940e-06  0.072526   \nNegentropyApprox1(2)            100    0.176485  9.636471e-09  0.079734   \nNegentropyApprox1(1.5)          100    0.176485  1.432465e-09  0.080545   \nNegentropyApprox2               100    0.176485  1.241000e-10  0.081219   \nNegentropyApprox1(1)            100    0.176485  8.353156e-10  0.081489   \nNegentropyApprox4               100    0.762108  8.801874e-05  0.089514   \nNegentropyApprox3               100  185.758296  3.216984e-05  0.262727   \nNegentropyApprox5               500    0.199336  9.443109e-06  0.050695   \nNegentropyApprox4               500    0.326555  5.421378e-06  0.059848   \nNegentropyApprox1(2)            500    0.176485  2.395191e-09  0.080581   \nNegentropyApprox1(1.5)          500    0.176485  2.014585e-11  0.081269   \nNegentropyApprox2               500    0.176484  2.845237e-10  0.081424   \nNegentropyApprox1(1)            500    0.176485  1.202305e-09  0.082139   \nNegentropyApprox3               500   22.747182  6.178327e-06  0.130404   \nNegentropyApprox5              1000    0.191071  2.188402e-07  0.046455   \nNegentropyApprox4              1000    0.196957  4.375020e-06  0.055464   \nNegentropyApprox1(2)           1000    0.176417  5.871111e-10  0.080742   \nNegentropyApprox1(1.5)         1000    0.176473  1.752347e-09  0.081352   \nNegentropyApprox2              1000    0.176206  2.035100e-11  0.081414   \nNegentropyApprox1(1)           1000    0.176485  1.706786e-10  0.082228   \nNegentropyApprox3              1000    2.152028  3.335260e-06  0.100035   \nNegentropyApprox5             10000    0.133576  1.541825e-07  0.042540   \nNegentropyApprox4             10000    0.145633  3.859582e-07  0.048435   \nNegentropyApprox1(2)          10000    0.174953  4.099431e-11  0.080762   \nNegentropyApprox1(1.5)        10000    0.175609  7.099797e-12  0.081443   \nNegentropyApprox2             10000    0.175246  1.513981e-12  0.081454   \nNegentropyApprox1(1)          10000    0.176168  2.712721e-11  0.082273   \nNegentropyApprox3             10000    0.547096  7.136596e-08  0.088567   \nNegentropyApprox5            100000    0.118593  1.429211e-07  0.042133   \nNegentropyApprox4            100000    0.131771  1.244024e-08  0.048018   \nNegentropyApprox1(2)         100000    0.174186  6.511291e-11  0.080781   \nNegentropyApprox2            100000    0.174811  1.479867e-14  0.081450   \nNegentropyApprox1(1.5)       100000    0.174959  6.895613e-12  0.081459   \nNegentropyApprox1(1)         100000    0.175863  1.413568e-11  0.082281   \nNegentropyApprox3            100000    0.175128  4.201661e-08  0.087735   \n\n                             Std  \nNegentropyApprox1(2)    0.068947  \nNegentropyApprox1(1.5)  0.067226  \nNegentropyApprox2       0.067567  \nNegentropyApprox1(1)    0.068959  \nNegentropyApprox5       0.437564  \nNegentropyApprox3       5.813856  \nNegentropyApprox4       0.686078  \nNegentropyApprox5       0.067293  \nNegentropyApprox1(2)    0.070027  \nNegentropyApprox1(1.5)  0.070581  \nNegentropyApprox2       0.071241  \nNegentropyApprox1(1)    0.071251  \nNegentropyApprox4       0.088613  \nNegentropyApprox3       3.545178  \nNegentropyApprox5       0.049168  \nNegentropyApprox4       0.055455  \nNegentropyApprox1(2)    0.071052  \nNegentropyApprox1(1.5)  0.071563  \nNegentropyApprox2       0.071683  \nNegentropyApprox1(1)    0.071949  \nNegentropyApprox3       0.535651  \nNegentropyApprox5       0.048300  \nNegentropyApprox4       0.054475  \nNegentropyApprox1(2)    0.071280  \nNegentropyApprox1(1.5)  0.071625  \nNegentropyApprox2       0.071693  \nNegentropyApprox1(1)    0.072052  \nNegentropyApprox3       0.137394  \nNegentropyApprox5       0.049831  \nNegentropyApprox4       0.055213  \nNegentropyApprox1(2)    0.071392  \nNegentropyApprox1(1.5)  0.071764  \nNegentropyApprox2       0.071763  \nNegentropyApprox1(1)    0.072135  \nNegentropyApprox3       0.070362  \nNegentropyApprox5       0.049721  \nNegentropyApprox4       0.054993  \nNegentropyApprox1(2)    0.071404  \nNegentropyApprox2       0.071763  \nNegentropyApprox1(1.5)  0.071780  \nNegentropyApprox1(1)    0.072144  \nNegentropyApprox3       0.063854  ",
      "text/html": "<div>\n<style scoped>\n    .dataframe tbody tr th:only-of-type {\n        vertical-align: middle;\n    }\n\n    .dataframe tbody tr th {\n        vertical-align: top;\n    }\n\n    .dataframe thead th {\n        text-align: right;\n    }\n</style>\n<table border=\"1\" class=\"dataframe\">\n  <thead>\n    <tr style=\"text-align: right;\">\n      <th></th>\n      <th>Sample size</th>\n      <th>Max error</th>\n      <th>Min error</th>\n      <th>Mean</th>\n      <th>Std</th>\n    </tr>\n  </thead>\n  <tbody>\n    <tr>\n      <th>NegentropyApprox1(2)</th>\n      <td>10</td>\n      <td>1.193198</td>\n      <td>2.930608e-09</td>\n      <td>0.079095</td>\n      <td>0.068947</td>\n    </tr>\n    <tr>\n      <th>NegentropyApprox1(1.5)</th>\n      <td>10</td>\n      <td>0.479046</td>\n      <td>1.687357e-08</td>\n      <td>0.079376</td>\n      <td>0.067226</td>\n    </tr>\n    <tr>\n      <th>NegentropyApprox2</th>\n      <td>10</td>\n      <td>0.176485</td>\n      <td>4.588855e-09</td>\n      <td>0.079477</td>\n      <td>0.067567</td>\n    </tr>\n    <tr>\n      <th>NegentropyApprox1(1)</th>\n      <td>10</td>\n      <td>0.594406</td>\n      <td>2.608066e-08</td>\n      <td>0.079577</td>\n      <td>0.068959</td>\n    </tr>\n    <tr>\n      <th>NegentropyApprox5</th>\n      <td>10</td>\n      <td>6.940723</td>\n      <td>9.041453e-05</td>\n      <td>0.383112</td>\n      <td>0.437564</td>\n    </tr>\n    <tr>\n      <th>NegentropyApprox3</th>\n      <td>10</td>\n      <td>283.047099</td>\n      <td>5.075092e-08</td>\n      <td>0.499899</td>\n      <td>5.813856</td>\n    </tr>\n    <tr>\n      <th>NegentropyApprox4</th>\n      <td>10</td>\n      <td>16.173287</td>\n      <td>1.960380e-04</td>\n      <td>0.538388</td>\n      <td>0.686078</td>\n    </tr>\n    <tr>\n      <th>NegentropyApprox5</th>\n      <td>100</td>\n      <td>0.665296</td>\n      <td>7.650940e-06</td>\n      <td>0.072526</td>\n      <td>0.067293</td>\n    </tr>\n    <tr>\n      <th>NegentropyApprox1(2)</th>\n      <td>100</td>\n      <td>0.176485</td>\n      <td>9.636471e-09</td>\n      <td>0.079734</td>\n      <td>0.070027</td>\n    </tr>\n    <tr>\n      <th>NegentropyApprox1(1.5)</th>\n      <td>100</td>\n      <td>0.176485</td>\n      <td>1.432465e-09</td>\n      <td>0.080545</td>\n      <td>0.070581</td>\n    </tr>\n    <tr>\n      <th>NegentropyApprox2</th>\n      <td>100</td>\n      <td>0.176485</td>\n      <td>1.241000e-10</td>\n      <td>0.081219</td>\n      <td>0.071241</td>\n    </tr>\n    <tr>\n      <th>NegentropyApprox1(1)</th>\n      <td>100</td>\n      <td>0.176485</td>\n      <td>8.353156e-10</td>\n      <td>0.081489</td>\n      <td>0.071251</td>\n    </tr>\n    <tr>\n      <th>NegentropyApprox4</th>\n      <td>100</td>\n      <td>0.762108</td>\n      <td>8.801874e-05</td>\n      <td>0.089514</td>\n      <td>0.088613</td>\n    </tr>\n    <tr>\n      <th>NegentropyApprox3</th>\n      <td>100</td>\n      <td>185.758296</td>\n      <td>3.216984e-05</td>\n      <td>0.262727</td>\n      <td>3.545178</td>\n    </tr>\n    <tr>\n      <th>NegentropyApprox5</th>\n      <td>500</td>\n      <td>0.199336</td>\n      <td>9.443109e-06</td>\n      <td>0.050695</td>\n      <td>0.049168</td>\n    </tr>\n    <tr>\n      <th>NegentropyApprox4</th>\n      <td>500</td>\n      <td>0.326555</td>\n      <td>5.421378e-06</td>\n      <td>0.059848</td>\n      <td>0.055455</td>\n    </tr>\n    <tr>\n      <th>NegentropyApprox1(2)</th>\n      <td>500</td>\n      <td>0.176485</td>\n      <td>2.395191e-09</td>\n      <td>0.080581</td>\n      <td>0.071052</td>\n    </tr>\n    <tr>\n      <th>NegentropyApprox1(1.5)</th>\n      <td>500</td>\n      <td>0.176485</td>\n      <td>2.014585e-11</td>\n      <td>0.081269</td>\n      <td>0.071563</td>\n    </tr>\n    <tr>\n      <th>NegentropyApprox2</th>\n      <td>500</td>\n      <td>0.176484</td>\n      <td>2.845237e-10</td>\n      <td>0.081424</td>\n      <td>0.071683</td>\n    </tr>\n    <tr>\n      <th>NegentropyApprox1(1)</th>\n      <td>500</td>\n      <td>0.176485</td>\n      <td>1.202305e-09</td>\n      <td>0.082139</td>\n      <td>0.071949</td>\n    </tr>\n    <tr>\n      <th>NegentropyApprox3</th>\n      <td>500</td>\n      <td>22.747182</td>\n      <td>6.178327e-06</td>\n      <td>0.130404</td>\n      <td>0.535651</td>\n    </tr>\n    <tr>\n      <th>NegentropyApprox5</th>\n      <td>1000</td>\n      <td>0.191071</td>\n      <td>2.188402e-07</td>\n      <td>0.046455</td>\n      <td>0.048300</td>\n    </tr>\n    <tr>\n      <th>NegentropyApprox4</th>\n      <td>1000</td>\n      <td>0.196957</td>\n      <td>4.375020e-06</td>\n      <td>0.055464</td>\n      <td>0.054475</td>\n    </tr>\n    <tr>\n      <th>NegentropyApprox1(2)</th>\n      <td>1000</td>\n      <td>0.176417</td>\n      <td>5.871111e-10</td>\n      <td>0.080742</td>\n      <td>0.071280</td>\n    </tr>\n    <tr>\n      <th>NegentropyApprox1(1.5)</th>\n      <td>1000</td>\n      <td>0.176473</td>\n      <td>1.752347e-09</td>\n      <td>0.081352</td>\n      <td>0.071625</td>\n    </tr>\n    <tr>\n      <th>NegentropyApprox2</th>\n      <td>1000</td>\n      <td>0.176206</td>\n      <td>2.035100e-11</td>\n      <td>0.081414</td>\n      <td>0.071693</td>\n    </tr>\n    <tr>\n      <th>NegentropyApprox1(1)</th>\n      <td>1000</td>\n      <td>0.176485</td>\n      <td>1.706786e-10</td>\n      <td>0.082228</td>\n      <td>0.072052</td>\n    </tr>\n    <tr>\n      <th>NegentropyApprox3</th>\n      <td>1000</td>\n      <td>2.152028</td>\n      <td>3.335260e-06</td>\n      <td>0.100035</td>\n      <td>0.137394</td>\n    </tr>\n    <tr>\n      <th>NegentropyApprox5</th>\n      <td>10000</td>\n      <td>0.133576</td>\n      <td>1.541825e-07</td>\n      <td>0.042540</td>\n      <td>0.049831</td>\n    </tr>\n    <tr>\n      <th>NegentropyApprox4</th>\n      <td>10000</td>\n      <td>0.145633</td>\n      <td>3.859582e-07</td>\n      <td>0.048435</td>\n      <td>0.055213</td>\n    </tr>\n    <tr>\n      <th>NegentropyApprox1(2)</th>\n      <td>10000</td>\n      <td>0.174953</td>\n      <td>4.099431e-11</td>\n      <td>0.080762</td>\n      <td>0.071392</td>\n    </tr>\n    <tr>\n      <th>NegentropyApprox1(1.5)</th>\n      <td>10000</td>\n      <td>0.175609</td>\n      <td>7.099797e-12</td>\n      <td>0.081443</td>\n      <td>0.071764</td>\n    </tr>\n    <tr>\n      <th>NegentropyApprox2</th>\n      <td>10000</td>\n      <td>0.175246</td>\n      <td>1.513981e-12</td>\n      <td>0.081454</td>\n      <td>0.071763</td>\n    </tr>\n    <tr>\n      <th>NegentropyApprox1(1)</th>\n      <td>10000</td>\n      <td>0.176168</td>\n      <td>2.712721e-11</td>\n      <td>0.082273</td>\n      <td>0.072135</td>\n    </tr>\n    <tr>\n      <th>NegentropyApprox3</th>\n      <td>10000</td>\n      <td>0.547096</td>\n      <td>7.136596e-08</td>\n      <td>0.088567</td>\n      <td>0.070362</td>\n    </tr>\n    <tr>\n      <th>NegentropyApprox5</th>\n      <td>100000</td>\n      <td>0.118593</td>\n      <td>1.429211e-07</td>\n      <td>0.042133</td>\n      <td>0.049721</td>\n    </tr>\n    <tr>\n      <th>NegentropyApprox4</th>\n      <td>100000</td>\n      <td>0.131771</td>\n      <td>1.244024e-08</td>\n      <td>0.048018</td>\n      <td>0.054993</td>\n    </tr>\n    <tr>\n      <th>NegentropyApprox1(2)</th>\n      <td>100000</td>\n      <td>0.174186</td>\n      <td>6.511291e-11</td>\n      <td>0.080781</td>\n      <td>0.071404</td>\n    </tr>\n    <tr>\n      <th>NegentropyApprox2</th>\n      <td>100000</td>\n      <td>0.174811</td>\n      <td>1.479867e-14</td>\n      <td>0.081450</td>\n      <td>0.071763</td>\n    </tr>\n    <tr>\n      <th>NegentropyApprox1(1.5)</th>\n      <td>100000</td>\n      <td>0.174959</td>\n      <td>6.895613e-12</td>\n      <td>0.081459</td>\n      <td>0.071780</td>\n    </tr>\n    <tr>\n      <th>NegentropyApprox1(1)</th>\n      <td>100000</td>\n      <td>0.175863</td>\n      <td>1.413568e-11</td>\n      <td>0.082281</td>\n      <td>0.072144</td>\n    </tr>\n    <tr>\n      <th>NegentropyApprox3</th>\n      <td>100000</td>\n      <td>0.175128</td>\n      <td>4.201661e-08</td>\n      <td>0.087735</td>\n      <td>0.063854</td>\n    </tr>\n  </tbody>\n</table>\n</div>"
     },
     "execution_count": 84,
     "metadata": {},
     "output_type": "execute_result"
    }
   ],
   "source": [
    "errors_df.sort_values(by=['Sample size', 'Mean'])"
   ],
   "metadata": {
    "collapsed": false,
    "pycharm": {
     "name": "#%%\n"
    }
   }
  },
  {
   "cell_type": "code",
   "execution_count": 85,
   "outputs": [
    {
     "data": {
      "text/plain": "                        Sample size   Max error     Min error      Mean  \\\nNegentropyApprox1(1.5)           10    0.479046  1.687357e-08  0.079376   \nNegentropyApprox2                10    0.176485  4.588855e-09  0.079477   \nNegentropyApprox1(2)             10    1.193198  2.930608e-09  0.079095   \nNegentropyApprox1(1)             10    0.594406  2.608066e-08  0.079577   \nNegentropyApprox5                10    6.940723  9.041453e-05  0.383112   \nNegentropyApprox4                10   16.173287  1.960380e-04  0.538388   \nNegentropyApprox3                10  283.047099  5.075092e-08  0.499899   \nNegentropyApprox5               100    0.665296  7.650940e-06  0.072526   \nNegentropyApprox1(2)            100    0.176485  9.636471e-09  0.079734   \nNegentropyApprox1(1.5)          100    0.176485  1.432465e-09  0.080545   \nNegentropyApprox2               100    0.176485  1.241000e-10  0.081219   \nNegentropyApprox1(1)            100    0.176485  8.353156e-10  0.081489   \nNegentropyApprox4               100    0.762108  8.801874e-05  0.089514   \nNegentropyApprox3               100  185.758296  3.216984e-05  0.262727   \nNegentropyApprox5               500    0.199336  9.443109e-06  0.050695   \nNegentropyApprox4               500    0.326555  5.421378e-06  0.059848   \nNegentropyApprox1(2)            500    0.176485  2.395191e-09  0.080581   \nNegentropyApprox1(1.5)          500    0.176485  2.014585e-11  0.081269   \nNegentropyApprox2               500    0.176484  2.845237e-10  0.081424   \nNegentropyApprox1(1)            500    0.176485  1.202305e-09  0.082139   \nNegentropyApprox3               500   22.747182  6.178327e-06  0.130404   \nNegentropyApprox5              1000    0.191071  2.188402e-07  0.046455   \nNegentropyApprox4              1000    0.196957  4.375020e-06  0.055464   \nNegentropyApprox1(2)           1000    0.176417  5.871111e-10  0.080742   \nNegentropyApprox1(1.5)         1000    0.176473  1.752347e-09  0.081352   \nNegentropyApprox2              1000    0.176206  2.035100e-11  0.081414   \nNegentropyApprox1(1)           1000    0.176485  1.706786e-10  0.082228   \nNegentropyApprox3              1000    2.152028  3.335260e-06  0.100035   \nNegentropyApprox5             10000    0.133576  1.541825e-07  0.042540   \nNegentropyApprox4             10000    0.145633  3.859582e-07  0.048435   \nNegentropyApprox3             10000    0.547096  7.136596e-08  0.088567   \nNegentropyApprox1(2)          10000    0.174953  4.099431e-11  0.080762   \nNegentropyApprox2             10000    0.175246  1.513981e-12  0.081454   \nNegentropyApprox1(1.5)        10000    0.175609  7.099797e-12  0.081443   \nNegentropyApprox1(1)          10000    0.176168  2.712721e-11  0.082273   \nNegentropyApprox5            100000    0.118593  1.429211e-07  0.042133   \nNegentropyApprox4            100000    0.131771  1.244024e-08  0.048018   \nNegentropyApprox3            100000    0.175128  4.201661e-08  0.087735   \nNegentropyApprox1(2)         100000    0.174186  6.511291e-11  0.080781   \nNegentropyApprox2            100000    0.174811  1.479867e-14  0.081450   \nNegentropyApprox1(1.5)       100000    0.174959  6.895613e-12  0.081459   \nNegentropyApprox1(1)         100000    0.175863  1.413568e-11  0.082281   \n\n                             Std  \nNegentropyApprox1(1.5)  0.067226  \nNegentropyApprox2       0.067567  \nNegentropyApprox1(2)    0.068947  \nNegentropyApprox1(1)    0.068959  \nNegentropyApprox5       0.437564  \nNegentropyApprox4       0.686078  \nNegentropyApprox3       5.813856  \nNegentropyApprox5       0.067293  \nNegentropyApprox1(2)    0.070027  \nNegentropyApprox1(1.5)  0.070581  \nNegentropyApprox2       0.071241  \nNegentropyApprox1(1)    0.071251  \nNegentropyApprox4       0.088613  \nNegentropyApprox3       3.545178  \nNegentropyApprox5       0.049168  \nNegentropyApprox4       0.055455  \nNegentropyApprox1(2)    0.071052  \nNegentropyApprox1(1.5)  0.071563  \nNegentropyApprox2       0.071683  \nNegentropyApprox1(1)    0.071949  \nNegentropyApprox3       0.535651  \nNegentropyApprox5       0.048300  \nNegentropyApprox4       0.054475  \nNegentropyApprox1(2)    0.071280  \nNegentropyApprox1(1.5)  0.071625  \nNegentropyApprox2       0.071693  \nNegentropyApprox1(1)    0.072052  \nNegentropyApprox3       0.137394  \nNegentropyApprox5       0.049831  \nNegentropyApprox4       0.055213  \nNegentropyApprox3       0.070362  \nNegentropyApprox1(2)    0.071392  \nNegentropyApprox2       0.071763  \nNegentropyApprox1(1.5)  0.071764  \nNegentropyApprox1(1)    0.072135  \nNegentropyApprox5       0.049721  \nNegentropyApprox4       0.054993  \nNegentropyApprox3       0.063854  \nNegentropyApprox1(2)    0.071404  \nNegentropyApprox2       0.071763  \nNegentropyApprox1(1.5)  0.071780  \nNegentropyApprox1(1)    0.072144  ",
      "text/html": "<div>\n<style scoped>\n    .dataframe tbody tr th:only-of-type {\n        vertical-align: middle;\n    }\n\n    .dataframe tbody tr th {\n        vertical-align: top;\n    }\n\n    .dataframe thead th {\n        text-align: right;\n    }\n</style>\n<table border=\"1\" class=\"dataframe\">\n  <thead>\n    <tr style=\"text-align: right;\">\n      <th></th>\n      <th>Sample size</th>\n      <th>Max error</th>\n      <th>Min error</th>\n      <th>Mean</th>\n      <th>Std</th>\n    </tr>\n  </thead>\n  <tbody>\n    <tr>\n      <th>NegentropyApprox1(1.5)</th>\n      <td>10</td>\n      <td>0.479046</td>\n      <td>1.687357e-08</td>\n      <td>0.079376</td>\n      <td>0.067226</td>\n    </tr>\n    <tr>\n      <th>NegentropyApprox2</th>\n      <td>10</td>\n      <td>0.176485</td>\n      <td>4.588855e-09</td>\n      <td>0.079477</td>\n      <td>0.067567</td>\n    </tr>\n    <tr>\n      <th>NegentropyApprox1(2)</th>\n      <td>10</td>\n      <td>1.193198</td>\n      <td>2.930608e-09</td>\n      <td>0.079095</td>\n      <td>0.068947</td>\n    </tr>\n    <tr>\n      <th>NegentropyApprox1(1)</th>\n      <td>10</td>\n      <td>0.594406</td>\n      <td>2.608066e-08</td>\n      <td>0.079577</td>\n      <td>0.068959</td>\n    </tr>\n    <tr>\n      <th>NegentropyApprox5</th>\n      <td>10</td>\n      <td>6.940723</td>\n      <td>9.041453e-05</td>\n      <td>0.383112</td>\n      <td>0.437564</td>\n    </tr>\n    <tr>\n      <th>NegentropyApprox4</th>\n      <td>10</td>\n      <td>16.173287</td>\n      <td>1.960380e-04</td>\n      <td>0.538388</td>\n      <td>0.686078</td>\n    </tr>\n    <tr>\n      <th>NegentropyApprox3</th>\n      <td>10</td>\n      <td>283.047099</td>\n      <td>5.075092e-08</td>\n      <td>0.499899</td>\n      <td>5.813856</td>\n    </tr>\n    <tr>\n      <th>NegentropyApprox5</th>\n      <td>100</td>\n      <td>0.665296</td>\n      <td>7.650940e-06</td>\n      <td>0.072526</td>\n      <td>0.067293</td>\n    </tr>\n    <tr>\n      <th>NegentropyApprox1(2)</th>\n      <td>100</td>\n      <td>0.176485</td>\n      <td>9.636471e-09</td>\n      <td>0.079734</td>\n      <td>0.070027</td>\n    </tr>\n    <tr>\n      <th>NegentropyApprox1(1.5)</th>\n      <td>100</td>\n      <td>0.176485</td>\n      <td>1.432465e-09</td>\n      <td>0.080545</td>\n      <td>0.070581</td>\n    </tr>\n    <tr>\n      <th>NegentropyApprox2</th>\n      <td>100</td>\n      <td>0.176485</td>\n      <td>1.241000e-10</td>\n      <td>0.081219</td>\n      <td>0.071241</td>\n    </tr>\n    <tr>\n      <th>NegentropyApprox1(1)</th>\n      <td>100</td>\n      <td>0.176485</td>\n      <td>8.353156e-10</td>\n      <td>0.081489</td>\n      <td>0.071251</td>\n    </tr>\n    <tr>\n      <th>NegentropyApprox4</th>\n      <td>100</td>\n      <td>0.762108</td>\n      <td>8.801874e-05</td>\n      <td>0.089514</td>\n      <td>0.088613</td>\n    </tr>\n    <tr>\n      <th>NegentropyApprox3</th>\n      <td>100</td>\n      <td>185.758296</td>\n      <td>3.216984e-05</td>\n      <td>0.262727</td>\n      <td>3.545178</td>\n    </tr>\n    <tr>\n      <th>NegentropyApprox5</th>\n      <td>500</td>\n      <td>0.199336</td>\n      <td>9.443109e-06</td>\n      <td>0.050695</td>\n      <td>0.049168</td>\n    </tr>\n    <tr>\n      <th>NegentropyApprox4</th>\n      <td>500</td>\n      <td>0.326555</td>\n      <td>5.421378e-06</td>\n      <td>0.059848</td>\n      <td>0.055455</td>\n    </tr>\n    <tr>\n      <th>NegentropyApprox1(2)</th>\n      <td>500</td>\n      <td>0.176485</td>\n      <td>2.395191e-09</td>\n      <td>0.080581</td>\n      <td>0.071052</td>\n    </tr>\n    <tr>\n      <th>NegentropyApprox1(1.5)</th>\n      <td>500</td>\n      <td>0.176485</td>\n      <td>2.014585e-11</td>\n      <td>0.081269</td>\n      <td>0.071563</td>\n    </tr>\n    <tr>\n      <th>NegentropyApprox2</th>\n      <td>500</td>\n      <td>0.176484</td>\n      <td>2.845237e-10</td>\n      <td>0.081424</td>\n      <td>0.071683</td>\n    </tr>\n    <tr>\n      <th>NegentropyApprox1(1)</th>\n      <td>500</td>\n      <td>0.176485</td>\n      <td>1.202305e-09</td>\n      <td>0.082139</td>\n      <td>0.071949</td>\n    </tr>\n    <tr>\n      <th>NegentropyApprox3</th>\n      <td>500</td>\n      <td>22.747182</td>\n      <td>6.178327e-06</td>\n      <td>0.130404</td>\n      <td>0.535651</td>\n    </tr>\n    <tr>\n      <th>NegentropyApprox5</th>\n      <td>1000</td>\n      <td>0.191071</td>\n      <td>2.188402e-07</td>\n      <td>0.046455</td>\n      <td>0.048300</td>\n    </tr>\n    <tr>\n      <th>NegentropyApprox4</th>\n      <td>1000</td>\n      <td>0.196957</td>\n      <td>4.375020e-06</td>\n      <td>0.055464</td>\n      <td>0.054475</td>\n    </tr>\n    <tr>\n      <th>NegentropyApprox1(2)</th>\n      <td>1000</td>\n      <td>0.176417</td>\n      <td>5.871111e-10</td>\n      <td>0.080742</td>\n      <td>0.071280</td>\n    </tr>\n    <tr>\n      <th>NegentropyApprox1(1.5)</th>\n      <td>1000</td>\n      <td>0.176473</td>\n      <td>1.752347e-09</td>\n      <td>0.081352</td>\n      <td>0.071625</td>\n    </tr>\n    <tr>\n      <th>NegentropyApprox2</th>\n      <td>1000</td>\n      <td>0.176206</td>\n      <td>2.035100e-11</td>\n      <td>0.081414</td>\n      <td>0.071693</td>\n    </tr>\n    <tr>\n      <th>NegentropyApprox1(1)</th>\n      <td>1000</td>\n      <td>0.176485</td>\n      <td>1.706786e-10</td>\n      <td>0.082228</td>\n      <td>0.072052</td>\n    </tr>\n    <tr>\n      <th>NegentropyApprox3</th>\n      <td>1000</td>\n      <td>2.152028</td>\n      <td>3.335260e-06</td>\n      <td>0.100035</td>\n      <td>0.137394</td>\n    </tr>\n    <tr>\n      <th>NegentropyApprox5</th>\n      <td>10000</td>\n      <td>0.133576</td>\n      <td>1.541825e-07</td>\n      <td>0.042540</td>\n      <td>0.049831</td>\n    </tr>\n    <tr>\n      <th>NegentropyApprox4</th>\n      <td>10000</td>\n      <td>0.145633</td>\n      <td>3.859582e-07</td>\n      <td>0.048435</td>\n      <td>0.055213</td>\n    </tr>\n    <tr>\n      <th>NegentropyApprox3</th>\n      <td>10000</td>\n      <td>0.547096</td>\n      <td>7.136596e-08</td>\n      <td>0.088567</td>\n      <td>0.070362</td>\n    </tr>\n    <tr>\n      <th>NegentropyApprox1(2)</th>\n      <td>10000</td>\n      <td>0.174953</td>\n      <td>4.099431e-11</td>\n      <td>0.080762</td>\n      <td>0.071392</td>\n    </tr>\n    <tr>\n      <th>NegentropyApprox2</th>\n      <td>10000</td>\n      <td>0.175246</td>\n      <td>1.513981e-12</td>\n      <td>0.081454</td>\n      <td>0.071763</td>\n    </tr>\n    <tr>\n      <th>NegentropyApprox1(1.5)</th>\n      <td>10000</td>\n      <td>0.175609</td>\n      <td>7.099797e-12</td>\n      <td>0.081443</td>\n      <td>0.071764</td>\n    </tr>\n    <tr>\n      <th>NegentropyApprox1(1)</th>\n      <td>10000</td>\n      <td>0.176168</td>\n      <td>2.712721e-11</td>\n      <td>0.082273</td>\n      <td>0.072135</td>\n    </tr>\n    <tr>\n      <th>NegentropyApprox5</th>\n      <td>100000</td>\n      <td>0.118593</td>\n      <td>1.429211e-07</td>\n      <td>0.042133</td>\n      <td>0.049721</td>\n    </tr>\n    <tr>\n      <th>NegentropyApprox4</th>\n      <td>100000</td>\n      <td>0.131771</td>\n      <td>1.244024e-08</td>\n      <td>0.048018</td>\n      <td>0.054993</td>\n    </tr>\n    <tr>\n      <th>NegentropyApprox3</th>\n      <td>100000</td>\n      <td>0.175128</td>\n      <td>4.201661e-08</td>\n      <td>0.087735</td>\n      <td>0.063854</td>\n    </tr>\n    <tr>\n      <th>NegentropyApprox1(2)</th>\n      <td>100000</td>\n      <td>0.174186</td>\n      <td>6.511291e-11</td>\n      <td>0.080781</td>\n      <td>0.071404</td>\n    </tr>\n    <tr>\n      <th>NegentropyApprox2</th>\n      <td>100000</td>\n      <td>0.174811</td>\n      <td>1.479867e-14</td>\n      <td>0.081450</td>\n      <td>0.071763</td>\n    </tr>\n    <tr>\n      <th>NegentropyApprox1(1.5)</th>\n      <td>100000</td>\n      <td>0.174959</td>\n      <td>6.895613e-12</td>\n      <td>0.081459</td>\n      <td>0.071780</td>\n    </tr>\n    <tr>\n      <th>NegentropyApprox1(1)</th>\n      <td>100000</td>\n      <td>0.175863</td>\n      <td>1.413568e-11</td>\n      <td>0.082281</td>\n      <td>0.072144</td>\n    </tr>\n  </tbody>\n</table>\n</div>"
     },
     "execution_count": 85,
     "metadata": {},
     "output_type": "execute_result"
    }
   ],
   "source": [
    "errors_df.sort_values(by=['Sample size','Std'])"
   ],
   "metadata": {
    "collapsed": false,
    "pycharm": {
     "name": "#%%\n"
    }
   }
  },
  {
   "cell_type": "markdown",
   "source": [
    "Какие выводы следуют из этих вычислений:\n",
    "\n",
    "* на маленьких размерах выборки лучше всего работают приближения 1 и 2\n",
    "* приближение 3(с эксцессом) ведет себя хуже всего в целом\n",
    "* на самом деле приближения 1 и 2 дают самые стабильные результаты, их погрешность практически не зависит от размера выборки. Т.е. небольшая даже при <500\n",
    "* приближения 4 и 5 на маленьких размерах(но не критично) выборки дают погрешности, не сильно отличающиеся от 1 и 2, но при этом обгоняют их в точности с ростом размера выборки"
   ],
   "metadata": {
    "collapsed": false,
    "pycharm": {
     "name": "#%% md\n"
    }
   }
  },
  {
   "cell_type": "markdown",
   "source": [
    "------\n",
    "т.о.\n",
    "\n",
    "* приближение 3 хуже всех, а исходя из его минуса -- чувствительности к выбросам, лучше не использовать его\n",
    "\n",
    "* для очень маленьких размеров выборок(<50?) лучше всего использовать приближения 1, 2\n",
    "\n",
    "* лучше всего себя показывают(но не на критично маленьких выборках) приближения scipy, 4 и 5"
   ],
   "metadata": {
    "collapsed": false,
    "pycharm": {
     "name": "#%% md\n"
    }
   }
  }
 ],
 "metadata": {
  "kernelspec": {
   "display_name": "Python 3",
   "language": "python",
   "name": "python3"
  },
  "language_info": {
   "codemirror_mode": {
    "name": "ipython",
    "version": 2
   },
   "file_extension": ".py",
   "mimetype": "text/x-python",
   "name": "python",
   "nbconvert_exporter": "python",
   "pygments_lexer": "ipython2",
   "version": "2.7.6"
  }
 },
 "nbformat": 4,
 "nbformat_minor": 0
}